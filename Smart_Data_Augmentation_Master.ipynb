{
 "cells": [
  {
   "cell_type": "code",
   "execution_count": 1,
   "metadata": {},
   "outputs": [
    {
     "name": "stdout",
     "output_type": "stream",
     "text": [
      "TorchIO version: 0.18.39\n"
     ]
    }
   ],
   "source": [
    "import copy\n",
    "import pprint\n",
    "import torch\n",
    "import torchio as tio\n",
    "import numpy as np\n",
    "import pandas as pd\n",
    "import nibabel as nib\n",
    "import matplotlib.pyplot as plt\n",
    "import seaborn as sns; sns.set()\n",
    "import os.path\n",
    "from os import path\n",
    "sns.set_style(\"whitegrid\", {'axes.grid' : False})\n",
    "%config InlineBackend.figure_format = 'retina'\n",
    "torch.manual_seed(14041931)\n",
    "print('TorchIO version:', tio.__version__)\n",
    "\n",
    "from torch.utils.data import DataLoader"
   ]
  },
  {
   "cell_type": "markdown",
   "metadata": {},
   "source": [
    "## Load an anatomical image and its respective masks"
   ]
  },
  {
   "cell_type": "code",
   "execution_count": 2,
   "metadata": {},
   "outputs": [],
   "source": [
    "sujet_index = 1\n",
    "path_database = \"multiclass-segmentation/Data_SC_GM_WM\"\n",
    "image = tio.ScalarImage(path_database + \"/Sub-\" + str(sujet_index).zfill(2) + '_'+'T2.nii.gz')\n",
    "label_SC = tio.LabelMap(path_database + \"/Sub-\" + str(sujet_index).zfill(2) + '_' + 'SC.nii.gz')\n",
    "label_GM  = tio.LabelMap(path_database + \"/Sub-\" + str(sujet_index).zfill(2) + '_'+'GM.nii.gz')"
   ]
  },
  {
   "cell_type": "markdown",
   "metadata": {},
   "source": [
    "## Creation of a grid to observe the deformations"
   ]
  },
  {
   "cell_type": "code",
   "execution_count": 3,
   "metadata": {},
   "outputs": [],
   "source": [
    "grid = copy.deepcopy(image)\n",
    "data = grid.data\n",
    "white = data.max()\n",
    "N = 7\n",
    "data[..., ::N, :, :] = white\n",
    "data[..., :, ::N, :] = white\n"
   ]
  },
  {
   "cell_type": "markdown",
   "metadata": {},
   "source": [
    "## Definition of the transformations to be carried out"
   ]
  },
  {
   "cell_type": "code",
   "execution_count": 6,
   "metadata": {},
   "outputs": [],
   "source": [
    "Subjects={\"image\":image,\"label_SC\":label_SC,\"label_GM\":label_GM,\"grid\":grid}\n",
    "Subjects=tio.Subject(Subjects)\n",
    "\n",
    "max_displacement = 3.5, 4.5, 0  # in x, y and z directions\n",
    "#transforms = [tio.RandomElasticDeformation(max_displacement=max_displacement),tio.RandomAffine(scales=(1.1, 1.1))]\n",
    "transforms = [tio.RandomElasticDeformation(max_displacement=max_displacement,image_interpolation='linear'),\n",
    "              tio.RandomAffine(scales=(1.1, 1.1),degrees=5,isotropic=False, image_interpolation='linear')]\n",
    "transform = tio.Compose(transforms)\n",
    "transformed_Aff = transform(Subjects)\n",
    "\n",
    "\n",
    "transforms_Ghost = [tio.RandomGhosting(num_ghosts=3,axes=(0,1),intensity=0.8)]\n",
    "transform_Ghost = tio.Compose(transforms_Ghost)\n",
    "transformed_Ghost = transform_Ghost(Subjects)\n",
    "\n"
   ]
  },
  {
   "cell_type": "markdown",
   "metadata": {},
   "source": [
    "## Output of transformed images (data augmentation)"
   ]
  },
  {
   "cell_type": "code",
   "execution_count": 5,
   "metadata": {},
   "outputs": [],
   "source": [
    "path_database_out=\"Transformations\"\n",
    "save_image =(path_database_out + '/B_'+'Aff_T2.nii.gz')\n",
    "save_label_GM =(path_database_out + '/B_'+'Aff_GM.nii.gz')\n",
    "save_label_SC =(path_database_out + '/B_'+'Aff_SC.nii.gz')\n",
    "save_grid =(path_database_out +  '/B_'+'Aff_Grid.nii.gz')\n",
    "\n",
    "save_image_Ghost =(path_database_out + '/B_'+'Ghost_T2.nii.gz')\n",
    "save_label_SC_Ghost =(path_database_out +'/B_'+'Ghost_SC.nii.gz')\n",
    "save_label_GM_Ghost =(path_database_out +  '/B_'+'Ghost_GM.nii.gz')\n",
    "\n",
    "(transformed_Aff[\"image\"]).save(save_image)\n",
    "(transformed_Aff[\"label_SC\"]).save(save_label_SC)\n",
    "(transformed_Aff[\"label_GM\"]).save(save_label_GM)\n",
    "(transformed_Aff[\"grid\"]).save(save_grid)\n",
    "\n",
    "\n",
    "(transformed_Ghost[\"image\"]).save(save_image_Ghost)\n",
    "(transformed_Ghost[\"label_SC\"]).save(save_label_SC_Ghost)\n",
    "(transformed_Ghost[\"label_GM\"]).save(save_label_GM_Ghost)"
   ]
  },
  {
   "cell_type": "code",
   "execution_count": null,
   "metadata": {},
   "outputs": [],
   "source": []
  }
 ],
 "metadata": {
  "kernelspec": {
   "display_name": "Python 3",
   "language": "python",
   "name": "python3"
  },
  "language_info": {
   "codemirror_mode": {
    "name": "ipython",
    "version": 3
   },
   "file_extension": ".py",
   "mimetype": "text/x-python",
   "name": "python",
   "nbconvert_exporter": "python",
   "pygments_lexer": "ipython3",
   "version": "3.7.6"
  }
 },
 "nbformat": 4,
 "nbformat_minor": 5
}
